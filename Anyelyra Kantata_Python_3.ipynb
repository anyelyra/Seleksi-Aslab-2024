{
  "nbformat": 4,
  "nbformat_minor": 0,
  "metadata": {
    "colab": {
      "provenance": []
    },
    "kernelspec": {
      "name": "python3",
      "display_name": "Python 3"
    },
    "language_info": {
      "name": "python"
    }
  },
  "cells": [
    {
      "cell_type": "markdown",
      "source": [
        "# Python #3: Pembagian Kue"
      ],
      "metadata": {
        "id": "psQtKXdP_djA"
      }
    },
    {
      "cell_type": "markdown",
      "source": [
        "Seorang ibu mempunyai 3 orang anak. Berikut ini adalah makanan kesukaan anak-anak ibu tersebut:\n",
        "*   Anak pertama: kue coklat\n",
        "*   Anak kedua: brownies\n",
        "*   Anak ketiga: nastar\n",
        "\n",
        "Mereka sepakat untuk membagi memberikan kue-kue buatan ibu dengan aturan, yaitu $\\frac{1}{2}$ dari masing-masing kue ke anak yang paling menyukai, lalu sisanya dibagi rata ke anak yang lain.\n",
        "\n",
        "Namun, tahun ini ibu mengangkat seorang anak kecil yang belum tahu makanan kesukaannya. Akhirnya diputuskan bahwa akan membagi N\\% dari bagian kue masing-masing ke adik baru.\n",
        "\n",
        "**Input**:\n",
        "*   X: jumlah kue coklat\n",
        "*   Y: jumlah potong brownies\n",
        "*   Z: jumlah nastar\n",
        "*   N persentase bagian untuk adik baru\n",
        "\n",
        "**Output**:\n",
        "Banyak bagian yang akan didapat masing-masing anak dari setiap jenis kue."
      ],
      "metadata": {
        "id": "f-XhvhnnRpU-"
      }
    },
    {
      "cell_type": "code",
      "execution_count": null,
      "metadata": {
        "colab": {
          "base_uri": "https://localhost:8080/"
        },
        "id": "QAjuLOcX_bT5",
        "outputId": "f5b7a6ec-dd44-41d2-c74c-3cdc80fb8a35"
      },
      "outputs": [
        {
          "output_type": "stream",
          "name": "stdout",
          "text": [
            "Masukkan jumlah kue coklat: 30\n",
            "Masukkan jumlah potong brownies: 40\n",
            "Masukkan jumlah nastar: 20\n",
            "Masukkan persentase bagian untuk adik baru: 10\n",
            "\n",
            "Anak Pertama\n",
            "  Kue Coklat: 19\n",
            "  Brownies: 6\n",
            "  Nastar: 3\n",
            "\n",
            "Anak Kedua\n",
            "  Kue Coklat: 5\n",
            "  Brownies: 25\n",
            "  Nastar: 3\n",
            "\n",
            "Anak Ketiga\n",
            "  Kue Coklat: 5\n",
            "  Brownies: 6\n",
            "  Nastar: 12\n",
            "\n",
            "Adik Baru\n",
            "  Kue Coklat: 1\n",
            "  Brownies: 2\n",
            "  Nastar: 1\n"
          ]
        }
      ],
      "source": [
        "import math\n",
        "\n",
        "# Input\n",
        "\n",
        "X = int(input(\"Masukkan jumlah kue coklat: \"))\n",
        "Y = int(input(\"Masukkan jumlah potong brownies: \"))\n",
        "Z = int(input(\"Masukkan jumlah nastar: \"))\n",
        "N = float(input(\"Masukkan persentase bagian untuk adik baru: \"))\n",
        "\n",
        "# Pembagian Kue\n",
        "\n",
        "# Kue untuk adik baru (N% dari 1/2 bagian kue)\n",
        "adik_coklat = math.floor((N / 100) * (X/2))\n",
        "adik_brownies = math.floor((N / 100) * (Y/2))\n",
        "adik_nastar = math.floor((N / 100) * (Z/2))\n",
        "\n",
        "# Sisa kue setelah dibagi ke adik baru\n",
        "sisa_coklat = X - adik_coklat\n",
        "sisa_brownies = Y - adik_brownies\n",
        "sisa_nastar = Z - adik_nastar\n",
        "\n",
        "# Berdasarkan kesukaan tiga anak kandung Ibu\n",
        "# Digunakan fungsi floor\n",
        "anak1_coklat = math.floor(sisa_coklat / 2)\n",
        "anak2_brownies = math.floor(sisa_brownies / 2)\n",
        "anak3_nastar = math.floor(sisa_nastar / 2)\n",
        "\n",
        "# Sisa terakhir yang akan dibagikan ke \"anak lainnya\"\n",
        "sisa_akhir_coklat = X - (adik_coklat + anak1_coklat)\n",
        "sisa_akhir_brownies = Y - (adik_brownies + anak2_brownies)\n",
        "sisa_akhir_nastar = Z - (adik_nastar + anak3_nastar)\n",
        "\n",
        "if sisa_akhir_coklat > 0:\n",
        "  bagi_coklat = math.floor(sisa_akhir_coklat/3)\n",
        "  anak1_coklat = anak1_coklat + bagi_coklat\n",
        "  anak2_coklat = bagi_coklat\n",
        "  anak3_coklat = bagi_coklat\n",
        "\n",
        "if sisa_akhir_brownies > 0:\n",
        "  bagi_brownies = math.floor(sisa_akhir_brownies/3)\n",
        "  anak2_brownies = anak2_brownies + bagi_brownies\n",
        "  anak1_brownies = bagi_brownies\n",
        "  anak3_brownies = bagi_brownies\n",
        "\n",
        "if sisa_akhir_nastar > 0:\n",
        "  bagi_nastar = math.floor(sisa_akhir_nastar/3)\n",
        "  anak3_nastar = anak3_nastar + bagi_nastar\n",
        "  anak1_nastar = bagi_nastar\n",
        "  anak2_nastar = bagi_nastar\n",
        "\n",
        "# Output\n",
        "print(\"\")\n",
        "print('Anak Pertama')\n",
        "print('  Kue Coklat:', anak1_coklat)\n",
        "print('  Brownies:', anak1_brownies)\n",
        "print('  Nastar:', anak1_nastar)\n",
        "print(\"\")\n",
        "print('Anak Kedua')\n",
        "print('  Kue Coklat:', anak2_coklat)\n",
        "print('  Brownies:', anak2_brownies)\n",
        "print('  Nastar:', anak2_nastar)\n",
        "print(\"\")\n",
        "print('Anak Ketiga')\n",
        "print('  Kue Coklat:', anak3_coklat)\n",
        "print('  Brownies:', anak3_brownies)\n",
        "print('  Nastar:', anak3_nastar)\n",
        "print(\"\")\n",
        "print('Adik Baru')\n",
        "print('  Kue Coklat:', adik_coklat)\n",
        "print('  Brownies:', adik_brownies)\n",
        "print('  Nastar:', adik_nastar)"
      ]
    }
  ]
}